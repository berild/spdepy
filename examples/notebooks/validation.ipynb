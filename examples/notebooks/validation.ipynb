{
 "cells": [
  {
   "cell_type": "markdown",
   "metadata": {},
   "source": [
    "# Finding fixed effects"
   ]
  },
  {
   "cell_type": "markdown",
   "metadata": {},
   "source": [
    "## The simple way, empirical approach"
   ]
  },
  {
   "cell_type": "code",
   "execution_count": 6,
   "metadata": {},
   "outputs": [],
   "source": [
    "import spdepy as sp\n",
    "import numpy as np\n",
    "data = sp.datasets.get_sinmod_training()\n",
    "dataV = sp.datasets.get_sinmod_validation()"
   ]
  },
  {
   "cell_type": "code",
   "execution_count": 9,
   "metadata": {},
   "outputs": [
    {
     "name": "stdout",
     "output_type": "stream",
     "text": [
      "tau_beta0 =  0.7050724788436276\n",
      "tau_beta1 =  0.012955065092673372\n"
     ]
    }
   ],
   "source": [
    "tmp0 = 1/(data['mu'].mean() - (dataV['dataS'].mean(axis = (0,1)))).var()\n",
    "print(\"tau_beta0 = \",tmp0)\n",
    "tmp1 = 1/((data['mu'].var()/(dataV['dataS'].var(axis = (0,1)))).var()*data['mu'].max()**2)\n",
    "print(\"tau_beta1 = \",tmp1)\n",
    "np.save(\"../fits/sinmod/sigmas.npy\",np.hstack([tmp0,tmp1]))"
   ]
  },
  {
   "cell_type": "markdown",
   "metadata": {},
   "source": [
    "## Resampling approach"
   ]
  },
  {
   "cell_type": "code",
   "execution_count": null,
   "metadata": {},
   "outputs": [],
   "source": [
    "import spdepy as sp\n",
    "import numpy as np\n",
    "\n",
    "data = sp.datasets.get_sinmod_training()\n",
    "dataV = sp.datasets.get_sinmod_validation()\n",
    "\n",
    "mod = sp.model(grid = sp.grid(x=data['x'], y=data['y'],extend = 5),\n",
    "         spde = 'whittle-matern',ha = True, bc = 3, anisotropic = True,parameters= np.load('../fits/whittle_matern_ha_bc3.npy'))\n",
    "\n",
    "sigmas = np.log(np.array([0.00728252, 0.27113878]))\n",
    "mod.setModel(mu = data['mu'],sigmas = sigmas,useCov = True)\n"
   ]
  },
  {
   "cell_type": "code",
   "execution_count": null,
   "metadata": {},
   "outputs": [],
   "source": [
    "# least squares approach (\"resampling\")\n",
    "X = mod.grid.S[:,-2:]\n",
    "S = mod.grid.S[:,:-2]\n",
    "Q = mod.Q[:-2,:-2]\n",
    "y = dataV['dataS'][:,0,0]\n",
    "betas = np.zeros((72*10,2))\n",
    "for i in range(72):\n",
    "    for j in range(10):\n",
    "        y = dataV['dataS'][:,j,i]\n",
    "        betas[i*10+j,:] = np.linalg.inv(X.T@S@Q@S.T@X.A)@X.T@S@Q@S.T@y"
   ]
  },
  {
   "cell_type": "markdown",
   "metadata": {},
   "source": [
    "## Likelihood based approach"
   ]
  },
  {
   "cell_type": "code",
   "execution_count": null,
   "metadata": {},
   "outputs": [],
   "source": [
    "# likelihood based approach\n",
    "S = mod.grid.getS()\n",
    "def func(sigmas):\n",
    "    res = np.zeros((dataV['dataS'].shape[2],11))\n",
    "    dres = np.zeros((dataV['dataS'].shape[2],11,2))\n",
    "    for j in range(dataV['dataS'].shape[2]):\n",
    "        for i in range(10):\n",
    "            mod.setModel(mu = data['mu'],sigmas = sigmas,useCov = True)\n",
    "            mod.update(y = dataV['dataS'][dataV['idxS'][:,0][dataV['tS'][:,0]==i],i,j],idx = dataV['idxS'][:,0][dataV['tS'][:,0]==i],grad = True)\n",
    "            tmp1 = dataV['dataS'][:,i:,0] - (S@mod.mu)[:,np.newaxis]\n",
    "            tmp2 = np.stack([S.T@tmp1[:,k] for k in range(10-i)],axis = 1)\n",
    "            res[j,i] = (tmp2.T@mod.Q@tmp2).diagonal().mean()\n",
    "            dres[j,i,0] = np.mean(-S.T@(S@mod.dmu[:,0])@mod.Q@tmp2 + (tmp2.T@mod.dQ1@tmp2).diagonal()- (tmp2.T@mod.Q@(S.T@S@mod.dmu[:,0])))\n",
    "            dres[j,i,1] = np.mean(-S.T@(S@mod.dmu[:,1])@mod.Q@tmp2 + (tmp2.T@mod.dQ2@tmp2).diagonal()- (tmp2.T@mod.Q@(S.T@S@mod.dmu[:,1])))\n",
    "        mod.setModel(mu = data['mu'],sigmas = sigmas,useCov = True)\n",
    "        tmp1 = dataV['dataS'][:,:,0] - (S@mod.mu)[:,np.newaxis]\n",
    "        tmp2 = np.stack([S.T@tmp1[:,k] for k in range(10)],axis = 1)\n",
    "        res[j,i] = (tmp2.T@mod.Q@tmp2).diagonal().mean()\n",
    "        dres[j,i,0] = np.mean(-S.T@(S@mod.dmu[:,0])@mod.Q@tmp2 + (tmp2.T@mod.dQ1@tmp2).diagonal()- (tmp2.T@mod.Q@(S.T@S@mod.dmu[:,0])))\n",
    "        dres[j,i,1] = np.mean(-S.T@(S@mod.dmu[:,1])@mod.Q@tmp2 + (tmp2.T@mod.dQ2@tmp2).diagonal()- (tmp2.T@mod.Q@(S.T@S@mod.dmu[:,1])))\n",
    "    res = np.mean(res)\n",
    "    dres = np.mean(dres,axis = (0,1))\n",
    "    print(\"res = \",res,\" , grad = \", dres, \" , sigmas = \",np.exp(sigmas))\n",
    "    return(res,-dres)\n",
    "\n",
    "sigmas = np.array([-2.69984669,  0.10283444])\n",
    "\n",
    "opt = sp.optim(fun = func)\n",
    "opt.fit(x0 = sigmas, lr = np.linspace(0.1,0.001,30),end = \"../fits/sinmod/whittle_matern_ha_bc3_sigmas2\")"
   ]
  }
 ],
 "metadata": {
  "kernelspec": {
   "display_name": "pacenv",
   "language": "python",
   "name": "python3"
  },
  "language_info": {
   "codemirror_mode": {
    "name": "ipython",
    "version": 3
   },
   "file_extension": ".py",
   "mimetype": "text/x-python",
   "name": "python",
   "nbconvert_exporter": "python",
   "pygments_lexer": "ipython3",
   "version": "3.10.13"
  }
 },
 "nbformat": 4,
 "nbformat_minor": 2
}
