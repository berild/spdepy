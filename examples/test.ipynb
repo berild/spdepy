{
 "cells": [
  {
   "cell_type": "code",
   "execution_count": 1,
   "metadata": {},
   "outputs": [],
   "source": [
    "import numpy as np"
   ]
  },
  {
   "cell_type": "code",
   "execution_count": null,
   "metadata": {},
   "outputs": [],
   "source": [
    "                if i == 0 or i == T-1:\n",
    "                    res[i,i] = 2*rho**2/(1-rho**2)**2\n",
    "                else:\n",
    "                    res[i,i] = 4*rho**2/(1-rho**2)**2\n",
    "                if i > 0:\n",
    "                    res[i,i-1] = rho*(1+rho**2)/(1-rho**2)**2\n",
    "                if i < T-1:\n",
    "                    res[i,i+1] = rho*(1+rho**2)/(1-rho**2)**2\n",
    "            return(sparse.csc_matrix(res))\n",
    "        else:\n",
    "            for i in range(T):\n",
    "                if i == 0 or i == T-1:\n",
    "                    res[i,i] = 1/(1-rho**2)\n",
    "                else:\n",
    "                    res[i,i] = (1+rho**2)/(1-rho**2)\n",
    "                if i > 0:\n",
    "                    res[i,i-1] = -rho/(1-rho**2)\n",
    "                if i < T-1:\n",
    "                    res[i,i+1] = -rho/(1-rho**2)"
   ]
  },
  {
   "cell_type": "code",
   "execution_count": 34,
   "metadata": {},
   "outputs": [],
   "source": [
    "def func(y):\n",
    "    x = np.exp(y)\n",
    "    # return(1/(1-x**2))\n",
    "    # return((1+x**2)/(1-x**2))\n",
    "    return(-x/(1-x**2))"
   ]
  },
  {
   "cell_type": "code",
   "execution_count": 35,
   "metadata": {},
   "outputs": [],
   "source": [
    "def deriv_func(y):\n",
    "    x = np.exp(y)\n",
    "    # return(2*x**2/(1-x**2)**2)\n",
    "    # return(4*x**2/(1-x**2)**2)\n",
    "    return(-x*(1+x**2)/(1-x**2)**2)"
   ]
  },
  {
   "cell_type": "code",
   "execution_count": 36,
   "metadata": {},
   "outputs": [],
   "source": [
    "# numerical derivative of func\n",
    "def deriv(y,h=1e-6):\n",
    "    return((func(y+h)-func(y-h))/(2*h))"
   ]
  },
  {
   "cell_type": "code",
   "execution_count": 37,
   "metadata": {},
   "outputs": [
    {
     "data": {
      "text/plain": [
       "True"
      ]
     },
     "execution_count": 37,
     "metadata": {},
     "output_type": "execute_result"
    }
   ],
   "source": [
    "# test the derivative\n",
    "y = np.random.normal(size=100)\n",
    "np.allclose(deriv_func(y),deriv(y))"
   ]
  },
  {
   "cell_type": "code",
   "execution_count": null,
   "metadata": {},
   "outputs": [],
   "source": []
  }
 ],
 "metadata": {
  "kernelspec": {
   "display_name": "pacenv",
   "language": "python",
   "name": "python3"
  },
  "language_info": {
   "codemirror_mode": {
    "name": "ipython",
    "version": 3
   },
   "file_extension": ".py",
   "mimetype": "text/x-python",
   "name": "python",
   "nbconvert_exporter": "python",
   "pygments_lexer": "ipython3",
   "version": "3.10.13"
  }
 },
 "nbformat": 4,
 "nbformat_minor": 2
}
